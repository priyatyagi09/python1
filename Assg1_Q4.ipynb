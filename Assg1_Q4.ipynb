{
 "cells": [
  {
   "cell_type": "code",
   "execution_count": 6,
   "id": "c7d57797-2294-468e-b2de-f7315a8bd31a",
   "metadata": {},
   "outputs": [
    {
     "name": "stdout",
     "output_type": "stream",
     "text": [
      "2\n",
      "<class 'int'>\n",
      "6\n",
      "<class 'int'>\n",
      "def\n",
      "<class 'str'>\n",
      "[6, 9.5, 'lmn']\n",
      "<class 'list'>\n",
      "7.5\n",
      "<class 'float'>\n",
      "22\n",
      "<class 'int'>\n",
      "68.0\n",
      "<class 'float'>\n",
      "ghi\n",
      "<class 'str'>\n",
      "[10]\n",
      "<class 'list'>\n",
      "42\n",
      "<class 'int'>\n"
     ]
    }
   ],
   "source": [
    "l=[2,6,'def',[6,9.5,'lmn'],7.5,22,68.0,'ghi',[10],(42)]\n",
    "for i in l:\n",
    "    print(i)\n",
    "    print(type(i))"
   ]
  },
  {
   "cell_type": "code",
   "execution_count": null,
   "id": "94b7d414-06f6-4c58-99e6-924707eca145",
   "metadata": {},
   "outputs": [],
   "source": []
  }
 ],
 "metadata": {
  "kernelspec": {
   "display_name": "Python 3 (ipykernel)",
   "language": "python",
   "name": "python3"
  },
  "language_info": {
   "codemirror_mode": {
    "name": "ipython",
    "version": 3
   },
   "file_extension": ".py",
   "mimetype": "text/x-python",
   "name": "python",
   "nbconvert_exporter": "python",
   "pygments_lexer": "ipython3",
   "version": "3.10.8"
  }
 },
 "nbformat": 4,
 "nbformat_minor": 5
}
