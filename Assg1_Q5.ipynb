{
 "cells": [
  {
   "cell_type": "code",
   "execution_count": 1,
   "id": "a93f9e86-9db1-4d9a-89ad-167e8c97a2de",
   "metadata": {},
   "outputs": [
    {
     "name": "stdin",
     "output_type": "stream",
     "text": [
      "Enter first number: 16\n",
      "Enter second number: 2\n"
     ]
    },
    {
     "name": "stdout",
     "output_type": "stream",
     "text": [
      "16 is divisible by 2 4 times\n"
     ]
    }
   ],
   "source": [
    "count=0\n",
    "a=int(input(\"Enter first number:\"))\n",
    "b=int(input(\"Enter second number:\"))\n",
    "num=a\n",
    "while num>0:\n",
    "    if num%b==0:\n",
    "        count +=1\n",
    "    num=num/b\n",
    "print(a, \"is divisible by\",b, count, \"times\")"
   ]
  },
  {
   "cell_type": "code",
   "execution_count": null,
   "id": "5df48d3e-b97f-40e4-a6f1-7d6eb8a9c71e",
   "metadata": {},
   "outputs": [],
   "source": []
  }
 ],
 "metadata": {
  "kernelspec": {
   "display_name": "Python 3 (ipykernel)",
   "language": "python",
   "name": "python3"
  },
  "language_info": {
   "codemirror_mode": {
    "name": "ipython",
    "version": 3
   },
   "file_extension": ".py",
   "mimetype": "text/x-python",
   "name": "python",
   "nbconvert_exporter": "python",
   "pygments_lexer": "ipython3",
   "version": "3.10.8"
  }
 },
 "nbformat": 4,
 "nbformat_minor": 5
}
