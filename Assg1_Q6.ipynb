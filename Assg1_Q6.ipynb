{
 "cells": [
  {
   "cell_type": "code",
   "execution_count": 2,
   "id": "391b9558-76dd-499f-adc1-8818458a9d23",
   "metadata": {},
   "outputs": [
    {
     "name": "stdout",
     "output_type": "stream",
     "text": [
      "3 is divisible by 3\n",
      "7 is not divisible by 3\n",
      "9 is divisible by 3\n",
      "18 is divisible by 3\n",
      "15 is divisible by 3\n",
      "21 is divisible by 3\n",
      "34 is not divisible by 3\n",
      "44 is not divisible by 3\n",
      "24 is divisible by 3\n",
      "32 is not divisible by 3\n",
      "27 is divisible by 3\n",
      "12 is divisible by 3\n",
      "41 is not divisible by 3\n",
      "33 is divisible by 3\n",
      "35 is not divisible by 3\n",
      "22 is not divisible by 3\n",
      "99 is divisible by 3\n",
      "81 is divisible by 3\n",
      "19 is not divisible by 3\n",
      "20 is not divisible by 3\n",
      "54 is divisible by 3\n",
      "66 is divisible by 3\n",
      "72 is divisible by 3\n",
      "39 is divisible by 3\n",
      "48 is divisible by 3\n"
     ]
    }
   ],
   "source": [
    "l=[3,7,9,18,15,21,34,44,24,32,27,12,41,33,35,22,99,81,19,20,54,66,72,39,48]\n",
    "for i in l:\n",
    "    if i%3==0:\n",
    "        print(i,\"is divisible by 3\")\n",
    "    else:\n",
    "        print(i, \"is not divisible by 3\")"
   ]
  },
  {
   "cell_type": "code",
   "execution_count": null,
   "id": "86daee36-730e-48c6-8125-ee0a69fd37f4",
   "metadata": {},
   "outputs": [],
   "source": []
  }
 ],
 "metadata": {
  "kernelspec": {
   "display_name": "Python 3 (ipykernel)",
   "language": "python",
   "name": "python3"
  },
  "language_info": {
   "codemirror_mode": {
    "name": "ipython",
    "version": 3
   },
   "file_extension": ".py",
   "mimetype": "text/x-python",
   "name": "python",
   "nbconvert_exporter": "python",
   "pygments_lexer": "ipython3",
   "version": "3.10.8"
  }
 },
 "nbformat": 4,
 "nbformat_minor": 5
}
