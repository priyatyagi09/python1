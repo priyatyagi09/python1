{
 "cells": [
  {
   "cell_type": "code",
   "execution_count": 1,
   "id": "c73b182a-e384-4cad-be2a-70d541d0442b",
   "metadata": {},
   "outputs": [],
   "source": [
    "# / is used for division"
   ]
  },
  {
   "cell_type": "code",
   "execution_count": 2,
   "id": "22cb7c01-a570-42a7-8bf1-baa53a8be525",
   "metadata": {},
   "outputs": [],
   "source": [
    "a=10"
   ]
  },
  {
   "cell_type": "code",
   "execution_count": 3,
   "id": "617cad3b-9123-4dca-b157-2c0912e97dd5",
   "metadata": {},
   "outputs": [],
   "source": [
    "b=4"
   ]
  },
  {
   "cell_type": "code",
   "execution_count": 4,
   "id": "22adc93a-162b-4988-a4d5-ccf3f5785a1c",
   "metadata": {},
   "outputs": [
    {
     "data": {
      "text/plain": [
       "2.5"
      ]
     },
     "execution_count": 4,
     "metadata": {},
     "output_type": "execute_result"
    }
   ],
   "source": [
    "a/b"
   ]
  },
  {
   "cell_type": "code",
   "execution_count": 5,
   "id": "6a2329c7-9b49-4c07-af70-528d35960763",
   "metadata": {},
   "outputs": [],
   "source": [
    "# % is used to find out the remainder"
   ]
  },
  {
   "cell_type": "code",
   "execution_count": 6,
   "id": "46309b9d-e5bd-42c5-9fe4-64657a45ef5e",
   "metadata": {},
   "outputs": [
    {
     "data": {
      "text/plain": [
       "2"
      ]
     },
     "execution_count": 6,
     "metadata": {},
     "output_type": "execute_result"
    }
   ],
   "source": [
    "a%b"
   ]
  },
  {
   "cell_type": "code",
   "execution_count": 7,
   "id": "f56536a6-8803-4c79-9523-2a9850f9740e",
   "metadata": {},
   "outputs": [],
   "source": [
    "# // is used to give the floor value"
   ]
  },
  {
   "cell_type": "code",
   "execution_count": 8,
   "id": "c2fee541-c3d1-4bd0-87e5-5222e4bbad0c",
   "metadata": {},
   "outputs": [
    {
     "data": {
      "text/plain": [
       "2"
      ]
     },
     "execution_count": 8,
     "metadata": {},
     "output_type": "execute_result"
    }
   ],
   "source": [
    "a//b"
   ]
  },
  {
   "cell_type": "code",
   "execution_count": null,
   "id": "4d79988e-fbdd-4b2e-9d57-13d7f6576899",
   "metadata": {},
   "outputs": [],
   "source": [
    "# a**b is used to provide "
   ]
  }
 ],
 "metadata": {
  "kernelspec": {
   "display_name": "Python 3 (ipykernel)",
   "language": "python",
   "name": "python3"
  },
  "language_info": {
   "codemirror_mode": {
    "name": "ipython",
    "version": 3
   },
   "file_extension": ".py",
   "mimetype": "text/x-python",
   "name": "python",
   "nbconvert_exporter": "python",
   "pygments_lexer": "ipython3",
   "version": "3.10.8"
  }
 },
 "nbformat": 4,
 "nbformat_minor": 5
}
