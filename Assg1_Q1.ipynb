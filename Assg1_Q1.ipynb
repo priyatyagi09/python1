{
 "cells": [
  {
   "cell_type": "code",
   "execution_count": 1,
   "id": "2efdd294-3650-45a0-8b8e-578937f76195",
   "metadata": {},
   "outputs": [],
   "source": [
    "a=['pwskills',[2,4,7],6.9,(\"apple\",9,\"car\")]"
   ]
  },
  {
   "cell_type": "code",
   "execution_count": 2,
   "id": "6bbfd9ab-751c-47cf-9187-14186fbc539f",
   "metadata": {},
   "outputs": [
    {
     "data": {
      "text/plain": [
       "['pwskills', [2, 4, 7], 6.9, ('apple', 9, 'car')]"
      ]
     },
     "execution_count": 2,
     "metadata": {},
     "output_type": "execute_result"
    }
   ],
   "source": [
    "a"
   ]
  },
  {
   "cell_type": "code",
   "execution_count": null,
   "id": "318fddbc-3fbe-4caf-8a7a-074d116df6da",
   "metadata": {},
   "outputs": [],
   "source": []
  }
 ],
 "metadata": {
  "kernelspec": {
   "display_name": "Python 3 (ipykernel)",
   "language": "python",
   "name": "python3"
  },
  "language_info": {
   "codemirror_mode": {
    "name": "ipython",
    "version": 3
   },
   "file_extension": ".py",
   "mimetype": "text/x-python",
   "name": "python",
   "nbconvert_exporter": "python",
   "pygments_lexer": "ipython3",
   "version": "3.10.8"
  }
 },
 "nbformat": 4,
 "nbformat_minor": 5
}
