{
 "cells": [
  {
   "cell_type": "code",
   "execution_count": 1,
   "id": "87cd9a0b-57db-457a-b878-49667cf526f9",
   "metadata": {},
   "outputs": [],
   "source": [
    "#Mutable objects are those where we can make modifications based on index value.For e.g. List"
   ]
  },
  {
   "cell_type": "code",
   "execution_count": 2,
   "id": "d71a6e82-1ce1-4744-a727-efdb11e42cf8",
   "metadata": {},
   "outputs": [],
   "source": [
    "l=[2,4,'abc',7.5,[3,5,6.7]]"
   ]
  },
  {
   "cell_type": "code",
   "execution_count": 3,
   "id": "98fd3a16-3026-4dec-a9ce-5406e602d0c7",
   "metadata": {},
   "outputs": [
    {
     "data": {
      "text/plain": [
       "[2, 4, 'abc', 7.5, [3, 5, 6.7]]"
      ]
     },
     "execution_count": 3,
     "metadata": {},
     "output_type": "execute_result"
    }
   ],
   "source": [
    "l"
   ]
  },
  {
   "cell_type": "code",
   "execution_count": 4,
   "id": "e884fba1-1ce3-47dc-ae3d-9092e6b600a9",
   "metadata": {},
   "outputs": [],
   "source": [
    "l[2]='hello'"
   ]
  },
  {
   "cell_type": "code",
   "execution_count": 5,
   "id": "fad9b5fb-eae2-4706-ad19-4baf5e31bfc6",
   "metadata": {},
   "outputs": [
    {
     "data": {
      "text/plain": [
       "[2, 4, 'hello', 7.5, [3, 5, 6.7]]"
      ]
     },
     "execution_count": 5,
     "metadata": {},
     "output_type": "execute_result"
    }
   ],
   "source": [
    "l"
   ]
  },
  {
   "cell_type": "code",
   "execution_count": 6,
   "id": "c70a852c-66ce-4456-8600-06da73eb9be0",
   "metadata": {},
   "outputs": [],
   "source": [
    "l[4]=95"
   ]
  },
  {
   "cell_type": "code",
   "execution_count": 7,
   "id": "ea5f797d-9a53-4b59-9e2e-ea0818b42fcd",
   "metadata": {},
   "outputs": [
    {
     "data": {
      "text/plain": [
       "[2, 4, 'hello', 7.5, 95]"
      ]
     },
     "execution_count": 7,
     "metadata": {},
     "output_type": "execute_result"
    }
   ],
   "source": [
    "l"
   ]
  },
  {
   "cell_type": "code",
   "execution_count": 8,
   "id": "8b56b5ca-89ab-4ca0-8de2-ef824d087efa",
   "metadata": {},
   "outputs": [],
   "source": [
    "#Immutable objects are those where we can not make modifications based on index value.For e.g. String"
   ]
  },
  {
   "cell_type": "code",
   "execution_count": 9,
   "id": "856156e0-c360-4ba9-a662-d5d5e8854236",
   "metadata": {},
   "outputs": [],
   "source": [
    "s=\"Hello World\""
   ]
  },
  {
   "cell_type": "code",
   "execution_count": 10,
   "id": "867552df-f607-4d99-9c4d-e2f0375a9339",
   "metadata": {},
   "outputs": [
    {
     "data": {
      "text/plain": [
       "'Hello World'"
      ]
     },
     "execution_count": 10,
     "metadata": {},
     "output_type": "execute_result"
    }
   ],
   "source": [
    "s"
   ]
  },
  {
   "cell_type": "code",
   "execution_count": 11,
   "id": "04966177-82e0-43dc-af47-d2fdb1740684",
   "metadata": {},
   "outputs": [
    {
     "data": {
      "text/plain": [
       "'l'"
      ]
     },
     "execution_count": 11,
     "metadata": {},
     "output_type": "execute_result"
    }
   ],
   "source": [
    "s[2]"
   ]
  },
  {
   "cell_type": "code",
   "execution_count": 12,
   "id": "04f3f7ad-beab-471b-b7aa-3e19ffcb18bf",
   "metadata": {},
   "outputs": [
    {
     "data": {
      "text/plain": [
       "'o'"
      ]
     },
     "execution_count": 12,
     "metadata": {},
     "output_type": "execute_result"
    }
   ],
   "source": [
    "s[4]"
   ]
  },
  {
   "cell_type": "code",
   "execution_count": 13,
   "id": "968d6d41-1f6b-4492-b100-5bb02b605268",
   "metadata": {},
   "outputs": [
    {
     "ename": "TypeError",
     "evalue": "'str' object does not support item assignment",
     "output_type": "error",
     "traceback": [
      "\u001b[0;31m---------------------------------------------------------------------------\u001b[0m",
      "\u001b[0;31mTypeError\u001b[0m                                 Traceback (most recent call last)",
      "Cell \u001b[0;32mIn[13], line 1\u001b[0m\n\u001b[0;32m----> 1\u001b[0m \u001b[43ms\u001b[49m\u001b[43m[\u001b[49m\u001b[38;5;241;43m4\u001b[39;49m\u001b[43m]\u001b[49m\u001b[38;5;241m=\u001b[39m\u001b[38;5;124m'\u001b[39m\u001b[38;5;124mi\u001b[39m\u001b[38;5;124m'\u001b[39m\n",
      "\u001b[0;31mTypeError\u001b[0m: 'str' object does not support item assignment"
     ]
    }
   ],
   "source": [
    "s[4]='i'"
   ]
  },
  {
   "cell_type": "code",
   "execution_count": null,
   "id": "3faea2f2-73a8-4f63-b458-53beef813969",
   "metadata": {},
   "outputs": [],
   "source": []
  }
 ],
 "metadata": {
  "kernelspec": {
   "display_name": "Python 3 (ipykernel)",
   "language": "python",
   "name": "python3"
  },
  "language_info": {
   "codemirror_mode": {
    "name": "ipython",
    "version": 3
   },
   "file_extension": ".py",
   "mimetype": "text/x-python",
   "name": "python",
   "nbconvert_exporter": "python",
   "pygments_lexer": "ipython3",
   "version": "3.10.8"
  }
 },
 "nbformat": 4,
 "nbformat_minor": 5
}
